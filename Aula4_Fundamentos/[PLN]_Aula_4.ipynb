{
  "nbformat": 4,
  "nbformat_minor": 0,
  "metadata": {
    "colab": {
      "provenance": [],
      "include_colab_link": true
    },
    "kernelspec": {
      "name": "python3",
      "display_name": "Python 3"
    },
    "language_info": {
      "name": "python"
    }
  },
  "cells": [
    {
      "cell_type": "markdown",
      "metadata": {
        "id": "view-in-github",
        "colab_type": "text"
      },
      "source": [
        "<a href=\"https://colab.research.google.com/github/iagoslopes/DSM_PLN/blob/master/Aula4_Fundamentos/%5BPLN%5D_Aula_4.ipynb\" target=\"_parent\"><img src=\"https://colab.research.google.com/assets/colab-badge.svg\" alt=\"Open In Colab\"/></a>"
      ]
    },
    {
      "cell_type": "markdown",
      "source": [
        "# Aula 4 - Limpeza de dados textuais"
      ],
      "metadata": {
        "id": "5gV89CHcLX32"
      }
    },
    {
      "cell_type": "markdown",
      "source": [
        "## 4.1 Normalização de texto e Remoção de Ruído\n",
        "\n",
        "* Remover caracteres especiais, pontuações, e normalizar o uso de letras maiúsculas e minúsculas"
      ],
      "metadata": {
        "id": "qGSdoqPTKyih"
      }
    },
    {
      "cell_type": "code",
      "execution_count": null,
      "metadata": {
        "id": "SpJ8OLj1PRcq"
      },
      "outputs": [],
      "source": [
        "# Importar a biblioteca que traz as funcionalidades para expressões regulares\n",
        "import re"
      ]
    },
    {
      "cell_type": "code",
      "source": [
        "original = 'olá!! Este é um exemplo de texto, com várias PONTUAÇÕES, símbolos #especiais, e Letras maiúsculas.'\n",
        "\n",
        "texto_limpo = re.sub(r'[^A-Za-zÀ-ÿ\\s]','',original)\n",
        "  # Realiza a substituição dos caracteres especiais\n",
        "  # re.sub(par1, par2, par3) >>> realizar a busca e a subtituição\n",
        "    #par1: r'[^A-Za-zÀ-ÿ\\s]': é o trecho que irá ser buscado para substituir\n",
        "      # A-Za-zÀ-ÿ\\s: os intervalos de texto que serão procurados\n",
        "        # A-Z: busca o intervalo de letras de A até Z\n",
        "        # a-z: busca o intervalo de letras de a até z\n",
        "        # À-ÿ: busca qualquer letra acentuada\n",
        "      # ^: representa a negação dos valores\n",
        "      # [^A-Za-zÀ-ÿ\\s]: busca todos os valores que não são letras (com ou sem acento)\n",
        "    #par2: '' >>> o termo que eu vou substituir, no caso uma string vazia\n",
        "    #par3: variável que contém o meu texto\n",
        "  # r: o que é o termo r? Pesquisem na documentação\n",
        "\n",
        "texto_normalizado = texto_limpo.lower()\n",
        "  # olá != OLÁ != Olá\n",
        "\n",
        "print(f'Texto original: {original}')\n",
        "print(f'\\nTexto limpo: {texto_limpo}')\n",
        "print(f'\\nTexto normalizado: {texto_normalizado}')"
      ],
      "metadata": {
        "colab": {
          "base_uri": "https://localhost:8080/"
        },
        "id": "ypBdJCmIP3F3",
        "outputId": "c626cdbf-5c57-4c01-9c37-9e7dfedebfdd"
      },
      "execution_count": null,
      "outputs": [
        {
          "output_type": "stream",
          "name": "stdout",
          "text": [
            "Texto original: olá!! Este é um exemplo de texto, com várias PONTUAÇÕES, símbolos #especiais, e Letras maiúsculas.\n",
            "\n",
            "Texto limpo: olá Este é um exemplo de texto com várias PONTUAÇÕES símbolos especiais e Letras maiúsculas\n",
            "\n",
            "Texto normalizado: olá este é um exemplo de texto com várias pontuações símbolos especiais e letras maiúsculas\n"
          ]
        }
      ]
    },
    {
      "cell_type": "markdown",
      "source": [
        "## 4.2 Tokenização"
      ],
      "metadata": {
        "id": "zdJqnMYILbzF"
      }
    },
    {
      "cell_type": "code",
      "source": [
        "import nltk\n",
        "from nltk.tokenize import word_tokenize\n",
        "\n",
        "nltk.download('punkt_tab')\n",
        "\n",
        "# Exemplo de uso\n",
        "tokens = word_tokenize(texto_normalizado)\n",
        "\n",
        "print(tokens)\n",
        "print(len(tokens))"
      ],
      "metadata": {
        "colab": {
          "base_uri": "https://localhost:8080/"
        },
        "id": "vFrEtTFXRIvE",
        "outputId": "5378b40b-c0fe-46c1-deec-cf951ac3bb0e"
      },
      "execution_count": null,
      "outputs": [
        {
          "output_type": "stream",
          "name": "stdout",
          "text": [
            "['olá', 'este', 'é', 'um', 'exemplo', 'de', 'texto', 'com', 'várias', 'pontuações', 'símbolos', 'especiais', 'e', 'letras', 'maiúsculas']\n",
            "15\n"
          ]
        },
        {
          "output_type": "stream",
          "name": "stderr",
          "text": [
            "[nltk_data] Downloading package punkt_tab to /root/nltk_data...\n",
            "[nltk_data]   Package punkt_tab is already up-to-date!\n"
          ]
        }
      ]
    },
    {
      "cell_type": "markdown",
      "source": [
        "## 4.3 Remoção de Stopwords\n",
        "* Stopwords são palavras de pouco valor semântico (como \"de\", \"a\", \"o\") que podem ser removidas para simplificar o texo"
      ],
      "metadata": {
        "id": "FDpnhk0dQosH"
      }
    },
    {
      "cell_type": "code",
      "source": [
        "from nltk.corpus import stopwords\n",
        "\n",
        "nltk.download('stopwords')\n",
        "\n",
        "stopwords_pt = set(stopwords.words('portuguese'))\n",
        "\n",
        "token_sem_stopwords = [palavra for palavra in tokens if palavra.lower() not in stopwords_pt]\n",
        "\n",
        "print(token_sem_stopwords)\n",
        "print(len(token_sem_stopwords))"
      ],
      "metadata": {
        "colab": {
          "base_uri": "https://localhost:8080/"
        },
        "id": "_c3jVcQOS_N-",
        "outputId": "5b1be812-4bba-41c2-cbf2-a8b484c63e81"
      },
      "execution_count": null,
      "outputs": [
        {
          "output_type": "stream",
          "name": "stdout",
          "text": [
            "['olá', 'exemplo', 'texto', 'várias', 'pontuações', 'símbolos', 'especiais', 'letras', 'maiúsculas']\n",
            "9\n"
          ]
        },
        {
          "output_type": "stream",
          "name": "stderr",
          "text": [
            "[nltk_data] Downloading package stopwords to /root/nltk_data...\n",
            "[nltk_data]   Package stopwords is already up-to-date!\n"
          ]
        }
      ]
    },
    {
      "cell_type": "markdown",
      "source": [
        "## 4.4 Stemming e Lemalização\n",
        "* Stemming reduz as palavras às suas raízes (ou radicais);\n",
        "* Lematização normaliza as palavras para suas formas base, levando em conta contexto e gramática."
      ],
      "metadata": {
        "id": "JBzE6ZOARXpO"
      }
    },
    {
      "cell_type": "code",
      "source": [
        "from nltk.stem import RSLPStemmer\n",
        "\n",
        "nltk.download('rslp')\n",
        "\n",
        "stemmer = RSLPStemmer()\n",
        "stemming = [stemmer.stem(palavra) for palavra in token_sem_stopwords]\n",
        "print(stemming)"
      ],
      "metadata": {
        "colab": {
          "base_uri": "https://localhost:8080/"
        },
        "id": "aqj_yZc3YTY8",
        "outputId": "d83a846c-7b00-43eb-cf75-62b1ca1a5a57"
      },
      "execution_count": null,
      "outputs": [
        {
          "output_type": "stream",
          "name": "stdout",
          "text": [
            "['olá', 'exempl', 'text', 'vár', 'pontu', 'símbol', 'espec', 'letr', 'maiúscul']\n"
          ]
        },
        {
          "output_type": "stream",
          "name": "stderr",
          "text": [
            "[nltk_data] Downloading package rslp to /root/nltk_data...\n",
            "[nltk_data]   Unzipping stemmers/rslp.zip.\n"
          ]
        }
      ]
    },
    {
      "cell_type": "markdown",
      "source": [
        "## 4.5 Utilizando todo o processo de hoje"
      ],
      "metadata": {
        "id": "SUxEFrvaSNuZ"
      }
    },
    {
      "cell_type": "code",
      "source": [
        "import nltk\n",
        "from nltk.corpus import stopwords\n",
        "from nltk.stem import PorterStemmer\n",
        "import re\n",
        "\n",
        "# Download dos recursos do NLTK (se necessário)\n",
        "nltk.download('punkt_tab')\n",
        "nltk.download('stopwords')\n",
        "\n",
        "# Texto de exemplo\n",
        "texto = \"Este é um exemplo de texto com muitas palavras, algumas repetidas outra @não, e pontuação, símbolos #especiais, e Letras maiúsculas.\"\n",
        "\n",
        "# Limpeza de ruídos e normalização\n",
        "texto_limpo = re.sub(r'[^a-zA-Z]', ' ', texto) # Remove tudo que não for letra e substitui por especiais\n",
        "texto_lower = texto_limpo.lower()\n",
        "\n",
        "# Tokenização\n",
        "tokens = nltk.word_tokenize(texto_lower)\n",
        "\n",
        "# Remoção de stopwords\n",
        "stop_words = set(stopwords.words('portuguese'))\n",
        "palavras_filtradas = [palavra for palavra in tokens if palavra not in stop_words]\n",
        "\n",
        "# Stemming\n",
        "stemmer = PorterStemmer()\n",
        "palavras_stemizadas = [stemmer.stem(palavra) for palavra in palavras_filtradas]\n",
        "\n",
        "# Impressão do resultado final\n",
        "print(palavras_stemizadas)"
      ],
      "metadata": {
        "colab": {
          "base_uri": "https://localhost:8080/"
        },
        "id": "2MpfsiRJSRts",
        "outputId": "92839740-d510-440b-d558-729385140dcf"
      },
      "execution_count": null,
      "outputs": [
        {
          "output_type": "stream",
          "name": "stdout",
          "text": [
            "['exemplo', 'texto', 'muita', 'palavra', 'alguma', 'repetida', 'outra', 'n', 'pontua', 's', 'mbolo', 'especiai', 'letra', 'mai', 'scula']\n"
          ]
        },
        {
          "output_type": "stream",
          "name": "stderr",
          "text": [
            "[nltk_data] Downloading package punkt_tab to /root/nltk_data...\n",
            "[nltk_data]   Package punkt_tab is already up-to-date!\n",
            "[nltk_data] Downloading package stopwords to /root/nltk_data...\n",
            "[nltk_data]   Package stopwords is already up-to-date!\n"
          ]
        }
      ]
    }
  ]
}