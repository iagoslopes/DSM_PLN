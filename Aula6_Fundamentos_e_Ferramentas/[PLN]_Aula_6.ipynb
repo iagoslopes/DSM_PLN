{
  "nbformat": 4,
  "nbformat_minor": 0,
  "metadata": {
    "colab": {
      "provenance": [],
      "mount_file_id": "1zxQ6b0o_HpbPqkIjM1nOI9M685eNdox3",
      "authorship_tag": "ABX9TyPsnlhhPg8NalY0+YbvQImr",
      "include_colab_link": true
    },
    "kernelspec": {
      "name": "python3",
      "display_name": "Python 3"
    },
    "language_info": {
      "name": "python"
    }
  },
  "cells": [
    {
      "cell_type": "markdown",
      "metadata": {
        "id": "view-in-github",
        "colab_type": "text"
      },
      "source": [
        "<a href=\"https://colab.research.google.com/github/iagoslopes/DSM_PLN/blob/master/Aula6_Fundamentos_e_Ferramentas/%5BPLN%5D_Aula_6.ipynb\" target=\"_parent\"><img src=\"https://colab.research.google.com/assets/colab-badge.svg\" alt=\"Open In Colab\"/></a>"
      ]
    },
    {
      "cell_type": "markdown",
      "source": [
        "# Aula 6 - Representação de Texto com Embeddings"
      ],
      "metadata": {
        "id": "Hv3SHddJia1g"
      }
    },
    {
      "cell_type": "markdown",
      "source": [
        "## Exemplo 1 - Word2Vex"
      ],
      "metadata": {
        "id": "7kyw7TTJihei"
      }
    },
    {
      "cell_type": "code",
      "source": [
        "# Importação da ferramenta de vetorização\n",
        "# Modelo de vetorização foi criado pelo Google em 2013\n",
        "from gensim.models import Word2Vec\n",
        "  # Pesquisa biblioteca na documentação\n",
        "\n",
        "# Texto a ser analisado\n",
        "corpus = [\n",
        "    [\"o\",\"cachorro\",\"está\",\"latindo\"],\n",
        "    [\"o\",\"gato\",\"está\",\"miando\"]\n",
        "]\n",
        "\n",
        "# Realizar o treinamento das palavras\n",
        "model = Word2Vec(sentences=corpus, vector_size=100, window=5, min_count=1, sg=1)\n",
        "  # setences >>> indicar o texto a ser analisado.\n",
        "  # window >>> faixa de palavras (antes e depois) que serão analisadoas\n",
        "  # vector_size >>> Dimensão do vetor\n",
        "  # min_count=1\n",
        "  # sg >>> representa o modelo a ser utilizado\n",
        "    # 0 >>> CBOW: busca a palavra a partir do contexto\n",
        "    # 1 >>> Skip-gram: busco o contexto a partir da palavra\n",
        "\n",
        "# Vetorização da palavra desejada\n",
        "vector = model.wv['cachorro']\n",
        "print(vetor)\n",
        "\n",
        "# Comparação de vetores.\n",
        "similarity = model.wv.similarity('gato','cachorro')\n",
        "\n",
        "# Imprimir o resultado\n",
        "print(\"Similaridade entre 'cachorro' e 'gato': \",similarity)"
      ],
      "metadata": {
        "colab": {
          "base_uri": "https://localhost:8080/"
        },
        "id": "jxrNZ5Qo9C3K",
        "outputId": "ec24f7c7-ebb3-4d33-9279-33d3910a27d3"
      },
      "execution_count": null,
      "outputs": [
        {
          "output_type": "stream",
          "name": "stdout",
          "text": [
            "Similaridade entre 'cachorro' e 'gato':  0.13149002\n"
          ]
        }
      ]
    },
    {
      "cell_type": "markdown",
      "source": [
        "## Exemplo 2"
      ],
      "metadata": {
        "id": "Qb9otDKRtrd_"
      }
    },
    {
      "cell_type": "code",
      "source": [
        "from gensim.models import Word2Vec\n",
        "\n",
        "corpus = [\n",
        "    [\"o\", \"cachorro\", \"está\", \"latindo\", \"no\", \"quintal\"],\n",
        "    [\"o\", \"gato\", \"está\", \"miando\", \"no\", \"telhado\"],\n",
        "    [\"o\", \"pássaro\", \"está\", \"voando\", \"no\", \"céu\"],\n",
        "    [\"a\", \"bola\", \"está\", \"rolando\", \"no\", \"chão\"],\n",
        "    [\"a\", \"criança\", \"está\", \"brincando\", \"com\", \"o\", \"cachorro\"],\n",
        "    [\"o\", \"gato\", \"e\", \"o\", \"rato\", \"são\", \"inimigos\"],\n",
        "    [\"a\", \"água\", \"está\", \"quente\", \"na\", \"caneca\"],\n",
        "    [\"o\", \"sol\", \"está\", \"brilhando\", \"no\", \"céu\"],\n",
        "    [\"a\", \"lua\", \"está\", \"cheia\", \"hoje\"],\n",
        "    [\"a\", \"computador\", \"está\", \"ligado\", \"na\", \"mesa\"]\n",
        "]\n",
        "\n",
        "model = Word2Vec(sentences=corpus, vector_size=100, window=5, min_count=1, sg=1)\n",
        "\n",
        "# Calculando a similaridade entre palavras\n",
        "print(f\"Similidaridade entre cachorro e gato: {model.wv.similarity('cachorro', 'gato')}\")\n",
        "print(f\"Similidaridade entre cachorro e bola: {model.wv.similarity('cachorro', 'bola')}\")\n",
        "print(f\"Similidaridade entre céu e lua: {model.wv.similarity('céu', 'lua')}\")\n",
        "print(f\"Similidaridade entre computador e mesa: {model.wv.similarity('computador', 'mesa')}\")"
      ],
      "metadata": {
        "colab": {
          "base_uri": "https://localhost:8080/"
        },
        "id": "OQDoMgr6HA9K",
        "outputId": "27b35df3-65ae-4378-e71b-1791d7df01a3"
      },
      "execution_count": null,
      "outputs": [
        {
          "output_type": "stream",
          "name": "stdout",
          "text": [
            "Similidaridade entre cachorro e gato: -0.027537165209650993\n",
            "Similidaridade entre cachorro e bola: 0.08071544766426086\n",
            "Similidaridade entre céu e lua: 0.16293543577194214\n",
            "Similidaridade entre computador e mesa: 0.037479717284440994\n"
          ]
        }
      ]
    },
    {
      "cell_type": "markdown",
      "source": [
        "## Exemplo 3 - Glove\n",
        "\n",
        "Neste exemplo será necessário baixar o arquivo de referência do site oficial do projeto GloVe, no repositório da Stanford NLP, acessível pelo link [repositório da Stanford NLP link](https://nlp.stanford.edu/projects/glove/)\n",
        "* Na página, procure pela seção \"Pre-trained word vectors\" e escolha o conjunto Common Crawl (glove.6B). O download incluirá vários arquivos em um arquivo compactado (.zip), com opções de vetores de 50, 100, 200 e 300 dimensões.\n",
        "\n",
        "Passos para usar o glove.6B.100d.txt\n",
        "1. Baixeo arquivo e extraia o conteúdo;\n",
        "2. Escolha a dimensão desejada (O glove.6B.100d.txt representa embeddings com 100 dimensões, um bom equilíbrio entre precisão e eficiência);\n",
        "3. Para carregar o arquivo no Python usanod Gensim, como no exemplo anterior, especifique o caminho para glove.6B.100d.txt após a extração.\n",
        "\n",
        "Para carregar o arquivo salvo no Google Drive no Google Colab siga os passos abaixo:\n",
        "1. Monte o Google Drive no Colab\n",
        "2. Localize o caminho do Arquivo\n",
        "3. Carregue o Arquivo no Python usando o caminho completo\n",
        "\n",
        "> glove_path = '/content/drive/MyDrive/embeddings/glove.6B.100d.txt'\n"
      ],
      "metadata": {
        "id": "VqR71p1bt6VM"
      }
    },
    {
      "cell_type": "code",
      "source": [
        "# Importação da biblioteca\n",
        "from gensim.models import KeyedVectors\n",
        "\n",
        "# Indicação do caminho do arquivo\n",
        "glove_path = '/content/drive/MyDrive/[FATEC] PLN/glove.6B.100d.txt'\n",
        "\n",
        "# Acesso ao modelo treinado (instanciação)\n",
        "glove_model = KeyedVectors.load_word2vec_format(glove_path, binary=False, no_header=True)\n",
        "  # glove_path >>> caminho do arquivo com o modelo treinado\n",
        "  # binary >>> arquivo em texto (False)\n",
        "  # no_header >>> ignorar o cabeçalho\n",
        "\n",
        "# Método para acessar a similaridade de duas palavras dentro do modelo treinado\n",
        "similaridade = glove_model.similarity('king', 'queen')\n",
        "print(\"Similaridade entre 'king' e 'queen': \", similaridade)\n",
        "\n",
        "# Método de proximidade para uma determinada palavra \"King\"\n",
        "palavras_proximas = glove_model.most_similar('king')\n",
        "print(\"Palavras próximas a 'king': \", palavras_proximas)"
      ],
      "metadata": {
        "colab": {
          "base_uri": "https://localhost:8080/"
        },
        "id": "dWDBDXedSa2F",
        "outputId": "bab2e6e5-a63c-40a7-897a-4bca361f5360"
      },
      "execution_count": null,
      "outputs": [
        {
          "output_type": "stream",
          "name": "stdout",
          "text": [
            "Similaridade entre 'king' e 'queen':  0.7507691\n",
            "Palavras próximas a 'king':  [('prince', 0.7682328820228577), ('queen', 0.7507690787315369), ('son', 0.7020888328552246), ('brother', 0.6985775232315063), ('monarch', 0.6977890729904175), ('throne', 0.6919989585876465), ('kingdom', 0.6811409592628479), ('father', 0.6802029013633728), ('emperor', 0.6712858080863953), ('ii', 0.6676074266433716)]\n"
          ]
        }
      ]
    },
    {
      "cell_type": "markdown",
      "source": [
        "## Exemplo 4 - FastText\n",
        "\n",
        "Baixar o modelo FastText pré-treinados em português diretamente do site da Meta AI [Facebook AI](https://fasttext.cc/docs/en/crawl-vectors.html)\n",
        "1. Role para baixo até seção \"Download pre-trained word vectors\" e procure o idioma português;\n",
        "2. O modelo em português é chamado cc.pt.300.vec (em formato de texto) ou cc.pt.300.bin (em formato binário);\n",
        "3. Clique para baixar o modelo desejado;\n",
        "4. Carregue o modelo no Google Drive."
      ],
      "metadata": {
        "id": "zdFjKlXZx8J5"
      }
    },
    {
      "cell_type": "code",
      "source": [
        "# Importação das funcionalidades\n",
        "from gensim.models import fasttext\n",
        "from gensim.models import KeyedVectors\n",
        "\n",
        "# Indicação do caminho do arquivo\n",
        "fasttext_path = '/content/drive/MyDrive/[FATEC] PLN/cc.pt.300.vec'\n",
        "\n",
        "# Instanciação do objeto\n",
        "fasttext_model = KeyedVectors.load_word2vec_format(fasttext_path, binary=False, no_header=True)\n",
        "\n",
        "# Cálculo de proximidade\n",
        "similaridade = fasttext_model.similarity('gato', 'gatinhos')\n",
        "print(f\"Similaridade entre 'gato' e 'gatinhos': {similaridade:.4f}\")\n",
        "\n",
        "# Cálculo das palavras mais próximas\n",
        "palavras_proximas = fasttext_model.most_similar('gato')\n",
        "print(\"Palavras mais próximas de 'gato': \")\n",
        "for palavra, score in palavras_proximas:\n",
        "  print(f\"{palavra}: {score:.4f}\")"
      ],
      "metadata": {
        "id": "3Dh0D3qcysTf"
      },
      "execution_count": null,
      "outputs": []
    }
  ]
}